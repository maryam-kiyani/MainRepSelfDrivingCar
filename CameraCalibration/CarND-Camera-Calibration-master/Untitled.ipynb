{
 "cells": [
  {
   "cell_type": "code",
   "execution_count": 1,
   "metadata": {},
   "outputs": [],
   "source": [
    "import numpy as np\n",
    "import matplotlib.pyplot as plt\n",
    "import matplotlib.image as mpimg\n",
    "%matplotlib inline"
   ]
  },
  {
   "cell_type": "code",
   "execution_count": null,
   "metadata": {},
   "outputs": [],
   "source": [
    "#left_fit = np.polyfit(lefty,leftx,2)\n",
    "#[ 2.18446349e-04 -3.87868019e-01  4.78047505e+02]\n",
    "#[ 4.21386213e-04 -4.80220685e-01  1.11526253e+03]"
   ]
  },
  {
   "cell_type": "code",
   "execution_count": null,
   "metadata": {},
   "outputs": [],
   "source": [
    "# evenly sampled time at 200ms intervals\n",
    "x = np.arange(0., 1200, 5.)\n",
    "a2 = 2.13935315e-04\n",
    "a1 = -3.77507980e-01\n",
    "a0 = 4.76902175e+02\n",
    "y = a0 + a1*x + a2*x**2\n",
    "plt.plot(y, x)\n",
    "plt.ylim(700,0)\n",
    "plt.xlim(0,1200)\n",
    "plt.show()"
   ]
  },
  {
   "cell_type": "code",
   "execution_count": null,
   "metadata": {},
   "outputs": [],
   "source": []
  }
 ],
 "metadata": {
  "kernelspec": {
   "display_name": "Python 3",
   "language": "python",
   "name": "python3"
  },
  "language_info": {
   "codemirror_mode": {
    "name": "ipython",
    "version": 3
   },
   "file_extension": ".py",
   "mimetype": "text/x-python",
   "name": "python",
   "nbconvert_exporter": "python",
   "pygments_lexer": "ipython3",
   "version": "3.7.0"
  }
 },
 "nbformat": 4,
 "nbformat_minor": 2
}
